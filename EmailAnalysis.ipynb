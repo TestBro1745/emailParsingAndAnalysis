{
 "cells": [
  {
   "cell_type": "markdown",
   "metadata": {},
   "source": [
    "This program takes an email .mbox and outputs a text file containing the Subject, Date, Sender, and body of all emails as plaintext. It might be easier to work with a different format, but changing to a .csv or shelve would be very simple. This output is human-readable and can be used for language analysis.\n",
    "\n",
    "I signed my Gmail up for campaign emails from the Donald Trump campaign in 2017 and received roughly 380 emails in that time.\n",
    "\n",
    "I had all the emails in a single tag, and I used google's takeout to create a .mbox file that contains all the emails in that tag.\n",
    "https://takeout.google.com/settings/takeout\n",
    "\n",
    "I had tried a plugin that pulls emails with a given tag and exports them to .pdfs in google drive, but I decided on the .mbox through takeout because getting the plain text from the emails ended up being way more difficult than it should have been. Both the parsers I tried (PyPDF2, Kita) output with missing parts or had the text too mixed with formatting data."
   ]
  },
  {
   "cell_type": "markdown",
   "metadata": {},
   "source": [
    "Imports:\n",
    "mailbox -- message and mbox classes for opening the .mbox file and extracting messages\n",
    "\n",
    "re -- regular expression module for making regular expressions to remove hyperlinks and \"&larr\" etc characters\n",
    "\n",
    "os -- operating system for changing the directory as needed\n",
    "\n",
    "BeautifulSoup -- for pulling data from HTML."
   ]
  },
  {
   "cell_type": "code",
   "execution_count": 23,
   "metadata": {},
   "outputs": [],
   "source": [
    "import mailbox\n",
    "import re\n",
    "import os\n",
    "from bs4 import BeautifulSoup"
   ]
  },
  {
   "cell_type": "markdown",
   "metadata": {},
   "source": [
    "Setting the directory and the .mbox file to use; set variable names dependant on the recipient of emails. These will be removed "
   ]
  },
  {
   "cell_type": "code",
   "execution_count": 26,
   "metadata": {},
   "outputs": [],
   "source": [
    "os.chdir('D:\\\\DataAnalysisProjects\\\\TrumpEmails\\\\mBoxFile\\\\Mail\\\\TEST\\\\')\n",
    "mb = mailbox.mbox('Trump.mbox')\n",
    "#the name of the output text file\n",
    "outputFileName = 'mboxOutput1.txt'\n",
    "RECIPIENT_EMAIL = 'nathanmkemp@gmail.com'\n",
    "#every time the name is used, it's used in this format in the emails I'm working with.\n",
    "RECIPIENT_FIRNAME = '\\nN,'\n",
    "RECIPIENT_FULLNAME = '\\nN K'"
   ]
  },
  {
   "cell_type": "markdown",
   "metadata": {},
   "source": [
    "Create the regular expressions that will be used for cleaning up the messages"
   ]
  },
  {
   "cell_type": "code",
   "execution_count": 20,
   "metadata": {},
   "outputs": [],
   "source": [
    "# create the regex for hyperlinks\n",
    "regexHyper = re.compile(r'http://\\S+', re.IGNORECASE)\n",
    "# regex for quotes and apostrophes &rsquo; &ldquo; &rdquo;\n",
    "regexQuote = re.compile(r'\\&\\w{5};')\n",
    "# for arrows\n",
    "regexArr = re.compile(r'\\&\\w{4};')\n",
    "# for all other &... html characters\n",
    "regexOther = re.compile(r'\\&\\S{3,6};')\n",
    "# for all blocks of whitespace 2+lines with any number of spaces between\n",
    "regexWhiteSpace = re.compile(r'(\\n+\\s+\\n)+')\n"
   ]
  },
  {
   "cell_type": "markdown",
   "metadata": {},
   "source": [
    "The unloadMessagePayload() function is passed a mailbox.Message as message and outputs a string with the metadata for the message (subj, date, from) and the body. It returns this as a string that is human-readable and without html formatting, but that will still need to be cleaned up before it is stored.\n",
    "\n",
    "The keys included in the header were selected based on what I expect to be most useful-- if you open the .mbox file in notepad, you can read through and find all the available keys('X-Received', for example).\n",
    "\n",
    "The body has to be extracted; some messages are multipart, some are not. \n",
    "\n",
    "When messages are multipart, all parts are extracted from the \"payload\" of the message as a list of strings, and and only the first value in the list is saved-- In the case of the emails I am working with, the first part (index 0) is the message without html formatting and is exactly what we want. The rest are html formatting and the message as html.\n",
    "\n",
    "When messages are single-part, the payload is extracted as a single string of html. BeautifulSoup() extracts the text from the html string, but this also removes hyperlinks. Single-part messages are stamped with \"++LINKS_REMOVED_FOR_THIS_MESSAGE++\" to reflect this and this should be kept in mind during analysis."
   ]
  },
  {
   "cell_type": "code",
   "execution_count": 21,
   "metadata": {},
   "outputs": [],
   "source": [
    "def unloadMessagePayload(message):\n",
    "    payloadParts = []\n",
    "    printString = ''\n",
    "    payloadString = ''\n",
    "    \n",
    "    # Create message header\n",
    "    printString += ('**'*20 + '\\n')\n",
    "    printString += ('Subject:     ' + message['Subject'] + '\\n')\n",
    "    printString += ('Date:        ' + message['Date'] + '\\n')\n",
    "    printString += ('From:        ' + message['From'] + '\\n')\n",
    "    printString += ('Body:        ' + '\\n')\n",
    "    \n",
    "    # Check to see if the message is a multi-part message.\n",
    "    if message.is_multipart():\n",
    "        # If it is multipart, get all parts of the payload, but only print the first one. The rest is just encoding stuff.\n",
    "        # It looks like the first part is plaintext, and the second is the email as html. Not sure.\n",
    "        for part in message.get_payload():\n",
    "            payloadParts.append(part.get_payload()) \n",
    "        printString += str(payloadParts[0])\n",
    "    else:\n",
    "        payloadString = message.get_payload()\n",
    "        payloadString = BeautifulSoup(payloadString,features=\"lxml\").text\n",
    "        printString += '\\n++LINKS_REMOVED_FOR_THIS_MESSAGE++ ' + payloadString.split('{ display: none !important; }')[2]\n",
    "    \n",
    "    return(printString)"
   ]
  },
  {
   "cell_type": "markdown",
   "metadata": {},
   "source": [
    "The cleanUpMessageBody() function takes a string as input and cleans it up and outputs a string for storage in a text file.\n",
    "\n",
    "It replaces the html coded characters with plaintext, and replaces terms that identify the user with generic terms. It also replaces hyperlinks with ++HYPERLINK++, but as mentioned in unloadMessagePayload(), this will only affect multi-part message payloads.\n",
    "\n",
    "Finally, it encodes then decodes the string as bytes, ignoring unicode so it can be stored as a text file. I'm not concerned with the characters it encodes so it's set to ignore."
   ]
  },
  {
   "cell_type": "code",
   "execution_count": 24,
   "metadata": {},
   "outputs": [],
   "source": [
    "def cleanUpMessageBody(payloadString):\n",
    "    payloadString = regexQuote.sub(\"'\",payloadString)\n",
    "    payloadString = regexArr.sub(\"--\",payloadString)\n",
    "    payloadString = regexOther.sub(\"\",payloadString)\n",
    "    payloadString = payloadString.replace(RECIPIENT_EMAIL,'++RECIPIENT_EMAIL++')\n",
    "    payloadString = payloadString.replace(RECIPIENT_FIRNAME,'\\n++RECIPIENT_FIRNAME++')\n",
    "    payloadString = payloadString.replace(RECIPIENT_FULLNAME,'\\n++RECIPIENT_FULLNAME++')\n",
    "    # use the regular expression defined above to replace all hyperlinks with \"++HYPERLINK++\"\n",
    "    payloadString = regexHyper.sub('++HYPERLINK++',payloadString)\n",
    "    payloadString = regexWhiteSpace.sub('\\n',payloadString)\n",
    "    return(bytes(payloadString,'ascii','ignore').decode('ascii','ignore'))"
   ]
  },
  {
   "cell_type": "markdown",
   "metadata": {},
   "source": [
    "This is the main program. First, a text file is created in write mode. It will overwrite whatever is currently in that file.\n",
    "\n",
    "mb is the .mbox file identified. For each message in mb, the payload is extracted, cleaned up, and written to the output text document. When the loop is done, the text file is closed."
   ]
  },
  {
   "cell_type": "code",
   "execution_count": 27,
   "metadata": {},
   "outputs": [],
   "source": [
    "# create an output file in write mode\n",
    "outputText = open(outputFileName,'w')\n",
    "\n",
    "for message in mb:\n",
    "    outputString = unloadMessagePayload(message)\n",
    "    outputString = cleanUpMessageBody(outputString)\n",
    "    outputText.write(outputString)\n",
    "    \n",
    "outputText.close()"
   ]
  },
  {
   "cell_type": "code",
   "execution_count": 33,
   "metadata": {},
   "outputs": [
    {
     "name": "stdout",
     "output_type": "stream",
     "text": [
      "@@@@The message payload before it is cleaned up@@@@ \n",
      "****************************************\n",
      "Subject:     Add your name\n",
      "Date:        Mon, 07 Jan 2019 14:48:35 -0600\n",
      "From:        \"Donald J. Trump\" <contact@victory.donaldtrump.com>\n",
      "Body:        \n",
      "\n",
      "  \n",
      " \n",
      "\n",
      " \n",
      "http://click.campaigns.rnchq.com/?qs=9a3839cb826896667af03c002e9ae495990de1d3627655b9e3ffb3405532423c9ecd88bd1941637fe020f94dc094dcdf5d04263c02ee1779 \n",
      "\n",
      "N, for the past two weeks we&rsquo;ve seen just how low the Democrats will sink in order to obstruct our agenda and everything we&rsquo;ve accomplished since 2016.\n",
      "\n",
      "\n",
      "Nancy Pelosi and Chuck Schumer shut down YOUR government by choosing illegal immigrants over hard-working American patriots like YOU. NO MORE!\n",
      "\n",
      "\n",
      "The only reason Democrats shut down the government is because they know they can&rsquo;t win in 2020. They don&rsquo;t care about your safety, they only care about Presidential Harassment!\n",
      "\n",
      "\n",
      "We showed them in 2016, now let&rsquo;s show them again that the silent majority is back and will NEVER be forgotten again.\n",
      "\n",
      "\n",
      "We&rsquo;re going t\n",
      "@@@@The cleaned up text that is written to .txt@@@@\n",
      "****************************************\n",
      "Subject:     Add your name\n",
      "Date:        Mon, 07 Jan 2019 14:48:35 -0600\n",
      "From:        \"Donald J. Trump\" <contact@victory.donaldtrump.com>\n",
      "Body:        \n",
      "++HYPERLINK++ \n",
      "\n",
      "++RECIPIENT_FIRNAME++ for the past two weeks we've seen just how low the Democrats will sink in order to obstruct our agenda and everything we've accomplished since 2016.\n",
      "Nancy Pelosi and Chuck Schumer shut down YOUR government by choosing illegal immigrants over hard-working American patriots like YOU. NO MORE!\n",
      "The only reason Democrats shut down the government is because they know they can't win in 2020. They don't care about your safety, they only care about Presidential Harassment!\n",
      "We showed them in 2016, now let's show them again that the silent majority is back and will NEVER be forgotten again.\n",
      "We're going to remind each and every Democrat that the American people voted for border security, the rule of law and to BUILD THE WALL!\n",
      "\n",
      "++HYPERLINK++ \n",
      "I need you to add your name to\n"
     ]
    }
   ],
   "source": [
    "for message in mb:\n",
    "    outputString = unloadMessagePayload(message)\n",
    "    print('@@@@The message payload before it is cleaned up@@@@ \\n' + outputString[:1000])\n",
    "    outputString = cleanUpMessageBody(outputString)\n",
    "    print('@@@@The cleaned up text that is written to .txt@@@@\\n' + outputString[:1000])\n",
    "    break"
   ]
  },
  {
   "cell_type": "code",
   "execution_count": null,
   "metadata": {},
   "outputs": [],
   "source": []
  }
 ],
 "metadata": {
  "kernelspec": {
   "display_name": "Python 3",
   "language": "python",
   "name": "python3"
  },
  "language_info": {
   "codemirror_mode": {
    "name": "ipython",
    "version": 3
   },
   "file_extension": ".py",
   "mimetype": "text/x-python",
   "name": "python",
   "nbconvert_exporter": "python",
   "pygments_lexer": "ipython3",
   "version": "3.7.1"
  }
 },
 "nbformat": 4,
 "nbformat_minor": 2
}
